{
 "cells": [
  {
   "cell_type": "markdown",
   "metadata": {},
   "source": [
    "## Introduction to ```spaCy```"
   ]
  },
  {
   "cell_type": "markdown",
   "metadata": {},
   "source": [
    "There are a number of different NLP frameworks that you're likely to encounter. The most popular and widely-used of these are:\n",
    "\n",
    "- ```NLTK``` (Natural Language Toolkit, old-school)\n",
    "- ```UDPipe``` (Neural network based, fast and light, but not super accurate)\n",
    "- ```CoreNLP``` and ```stanza``` (Created by the team at Stanford; academically robust)\n",
    "- ```spaCy``` production-ready, well-documented, state-of-the-art\n",
    "\n",
    "We'll be working with ```spaCy``` in this module, primarily because it's easy and intuitive, and also scales well.\n",
    "\n",
    "First thing we need to do is install ```spaCy``` and the language model that we want to use.\n",
    "\n",
    "From the command line, you should first make sure to run the setup script to install requirements:\n",
    "\n",
    "```shell \n",
    "bash setup.sh\n",
    "```"
   ]
  },
  {
   "cell_type": "markdown",
   "metadata": {},
   "source": [
    "## Initializing ```spaCy```"
   ]
  },
  {
   "cell_type": "markdown",
   "metadata": {},
   "source": [
    "The first thing we need to do is import ```spaCy``` __and__ the language model that we want to use.\n",
    "\n",
    "Note that, if you want to use different langauges you want to use different language models."
   ]
  },
  {
   "cell_type": "code",
   "execution_count": 11,
   "metadata": {},
   "outputs": [],
   "source": [
    "# create a spacy NLP class\n",
    "import spacy\n",
    "nlp = spacy.load(\"en_core_web_sm\")"
   ]
  },
  {
   "cell_type": "markdown",
   "metadata": {},
   "source": [
    "With the model now loaded, we can begin to do some very simple NLP tasks.\n",
    "\n",
    "Here, we create a spaCy object and assign it to the variable ```nlp```. This is the NLP pipeline that will do all our heavy lifting, using the trained model we've specified.\n",
    "\n",
    "Below, you can see what the pipeline does with a bit of sample text. Passing text to the nlp object gives us access to a bunch of properties, including tokens (words), parts of speech, named entities, and so on. Here's we two of them, tokens and entities. These objects, in turn, have certain methods attached to them. A full outline of available methods can be found in the spaCy docs.\n",
    "\n",
    "In this case, for all token objects, let's return the token itself (```token.text```); its part-of-speech tag (```token.pos_```); and the grammatical dependency relations between the tokens (```token.dep_```).\n"
   ]
  },
  {
   "cell_type": "code",
   "execution_count": 18,
   "metadata": {},
   "outputs": [],
   "source": [
    "# a single sentence example\n",
    "input_string = \"My name is Nikita and I have friends in Denmark, Germany, Poland and Dubai\""
   ]
  },
  {
   "cell_type": "code",
   "execution_count": 19,
   "metadata": {},
   "outputs": [],
   "source": [
    "# create a new Doc object\n",
    "doc = nlp(input_string)"
   ]
  },
  {
   "cell_type": "code",
   "execution_count": 20,
   "metadata": {},
   "outputs": [
    {
     "name": "stdout",
     "output_type": "stream",
     "text": [
      "My name is Nikita and I have friends in Denmark, Germany, Poland and Dubai\n"
     ]
    }
   ],
   "source": [
    "print(doc)"
   ]
  },
  {
   "cell_type": "markdown",
   "metadata": {},
   "source": [
    "__Tokenize__"
   ]
  },
  {
   "cell_type": "code",
   "execution_count": 21,
   "metadata": {},
   "outputs": [
    {
     "name": "stdout",
     "output_type": "stream",
     "text": [
      "My\n",
      "name\n",
      "is\n",
      "Nikita\n",
      "and\n",
      "I\n",
      "have\n",
      "friends\n",
      "in\n",
      "Denmark\n",
      ",\n",
      "Germany\n",
      ",\n",
      "Poland\n",
      "and\n",
      "Dubai\n"
     ]
    }
   ],
   "source": [
    "# tokenizing text\n",
    "for token in doc:\n",
    "    print(token.text)"
   ]
  },
  {
   "cell_type": "markdown",
   "metadata": {},
   "source": [
    "__Trying some more attributes__"
   ]
  },
  {
   "cell_type": "code",
   "execution_count": 22,
   "metadata": {},
   "outputs": [
    {
     "name": "stdout",
     "output_type": "stream",
     "text": [
      "0 My PRON\n",
      "1 name NOUN\n",
      "2 is AUX\n",
      "3 Nikita PROPN\n",
      "4 and CCONJ\n",
      "5 I PRON\n",
      "6 have VERB\n",
      "7 friends NOUN\n",
      "8 in ADP\n",
      "9 Denmark PROPN\n",
      "10 , PUNCT\n",
      "11 Germany PROPN\n",
      "12 , PUNCT\n",
      "13 Poland PROPN\n",
      "14 and CCONJ\n",
      "15 Dubai PROPN\n"
     ]
    }
   ],
   "source": [
    "# find parts-of-speech and grammatical relations\n",
    "for token in doc:\n",
    "    print(token.i, token.text, token.pos_)"
   ]
  },
  {
   "cell_type": "markdown",
   "metadata": {},
   "source": [
    "__NER__\n",
    "\n",
    "Extracting named entities from a ```spaCy``` doc requires an extra step, but nothing too challenging:"
   ]
  },
  {
   "cell_type": "code",
   "execution_count": 23,
   "metadata": {},
   "outputs": [
    {
     "name": "stdout",
     "output_type": "stream",
     "text": [
      "Nikita PERSON\n",
      "Denmark GPE\n",
      "Germany GPE\n",
      "Poland GPE\n",
      "Dubai GPE\n"
     ]
    }
   ],
   "source": [
    "# extracting NERs\n",
    "for ent in doc.ents:\n",
    "    print(ent.text, ent.label_)"
   ]
  },
  {
   "cell_type": "markdown",
   "metadata": {},
   "source": [
    "__Questions:__ \n",
    "\n",
    "1. What range of linguistic features is available beyond what we're looking at here? \n",
    "2. Are the same range of features available for all languages? Compare e.g. English and Danish."
   ]
  },
  {
   "cell_type": "markdown",
   "metadata": {},
   "source": [
    "## Count distribution of linguistic features"
   ]
  },
  {
   "cell_type": "markdown",
   "metadata": {},
   "source": [
    "__Create doc object__"
   ]
  },
  {
   "cell_type": "code",
   "execution_count": 31,
   "metadata": {},
   "outputs": [],
   "source": [
    "# load a text file\n",
    "import os\n",
    "filename = os.path.join(\"..\", \"data\", \"Dickens_Expectations_1861.txt\")"
   ]
  },
  {
   "cell_type": "code",
   "execution_count": 32,
   "metadata": {},
   "outputs": [],
   "source": [
    "with open(filename, \"r\", encoding=\"utf-8\") as file:\n",
    "    text = file.read()"
   ]
  },
  {
   "cell_type": "code",
   "execution_count": 33,
   "metadata": {},
   "outputs": [],
   "source": [
    "# create a doc object\n",
    "doc = nlp(text)"
   ]
  },
  {
   "cell_type": "code",
   "execution_count": 34,
   "metadata": {},
   "outputs": [],
   "source": [
    "# create empty list\n",
    "entities = []\n",
    "\n",
    "# add each entity to list\n",
    "for ent in doc.ents:\n",
    "    entities.append(ent.text)"
   ]
  },
  {
   "cell_type": "code",
   "execution_count": 35,
   "metadata": {},
   "outputs": [
    {
     "name": "stdout",
     "output_type": "stream",
     "text": [
      "{'Pull', 'Flopson', 'Newgate', 'Bolt', 'a certain Christmas Day', 'geese', 'forty to fifty years', 'William', 'the second night', 'less than five minutes', 'seventh', 'this Educational Institution', 'Jaggers', 'The day', 'plebeian', 'millions', 'I. \"Keep', 'journeyman', 'twenty years', 'Tuesday', 'one\\nevening', 'some ten miles', \"ten minutes of one o'clock\", 'Five more days', 'all night', 'twenty or', 'the Manor House', \"Nor giv' no one\", 'Dutch', 'Cheapside', 'Cag-Maggerth', 'six hundred miles', 'Botany Bay', 'all day long', 'Cobbs', 'the\\nChurch', 'a few year ago', 'Roger', 'several years', \"nine o'clock last night\", 'the winter season', 'ten months', 'the hour nine', 'Parliament', 'Assistance', 'Clara\\nBarley', 'Every Christmas Day', 'the other night', 'late hours', 'Wolf', 'Herbert!', 'that hour', 'Camels', 'Bank', 'Miss Pocket', \"Saint Paul's\", 'Often', 'the best day', 'Bolters', 'Chapter VIII', 'Garden Court', 'Jacks', 'a far darker night', 'P.S. Ever', '\"Am I', 'two and two', 'Chapter X', 'next\\nmorning', 'the night of the day', 'Barnwell', 'more than twenty years', 'Margins', 'Chapter XL', 'Chapter LVI\\nHe lay in prison very ill', \"Mark Antony's\", 'jargon', 'Wood Street', 'Shropshire', 'the Blue Boar', '\"Lucky for you then, Handel,', 'About midnight', \"nine o'clock every night\", 'Devil', 'Paris', 'Miss\\nSkiffins', 'Sunday', 'a thousand', 'Kew', 'London', 'Ophelia', 'Pooh', 'Eyes', 'the Inn Yard', 'I.\\nWemmick', 'number eight', 'Meaning the master', 'Grindstone', 'Christmas', 'Alexander, Bartholomew,', 'Entreating Herbert', 'Easy', 'the hour and minute', 'Nature', 'about a week', 'a single year', 'Rantipole', 'Chapter XXIII', 'Bentley Drummle', 'the Castle', 'Ca-pi-tal', 'Greenwich', \"to-day's\", 'Hamlet', 'Chapter XXXIV', 'Twenty pounds', 'Knaves', 'a little past midday', 'this afternoon', 'chum', 'Fortune', 'Fury', 'wolf', 'the light of day', 'twenty pound', 'Estavisham', 'twenty-five pound', 'the previous night', 'Miss Skiffins', 'Momentary', 'Unexpected', 'a month', 'half-holiday', 'Justice', 'these days', 'thousands of miles', 'Well, Pip,', 'Probably\\nWopsle', 'about a dozen', 'annual', \"Try Barnard's\", 'Giltspur Street', 'four or five hours', 'Chapter XIX\\nMorning', 'Death from the Almighty', 'some half an hour', 'the very first day', 'Hulks', 'at least four', 'Jury', 'Living on -', 'Windy', 'Trabb   Co.', 'age eight months', 'Potkins', 'Many a year', 'November', 'Sweep', 'Bless', 'Fair', 'watchman', 'four-mile', 'Pa.', 'I.\\n\"Ah', 'spring night', 'Chapter XXVI', 'What the Blue Blazes', 'month', 'Royal Personage', 'June', \"one hour's\", 'Compeyson', 'the Great Remonstrance', 'a few short months', 'Orlick', 'next day', 'fourth', \"Memorandum of\\nHerbert's\", 'Finch', 'Providence', 'Four Hundred Pound', 'Blacksmith', 'that evening', 'Fifty pounds', 'about a month', 'ten thousand', 'hours and hours', 'Kings', 'some days', 'eight to twelve', 'a holiday', 'Felon', \"'Yes, master\", 'their days', 'Home', 'the first half-hour', 'Mithter', 'Five pounds', 'Woolsack', 'Treasury', 'hundred\\nyears - impair', 'Rotterdam', \"Uncle Pumblechook  Joe's\", 'Dear Miss Havisham', 'Provis', 'Mike', 'Chapter XXXIII', 'Chapter XX', \"Whatsume'er\", 'four\\nmonths', 'twenty minutes to', 'Bed', 'Amens', 'that day', 'leaden', 'forty pence', 'eighty-two', 'Hubble', 'the Halfway House', 'a few inches', \"Barnard's Inn\", 'Nobbs', 'a dull evening', 'Laws of the game', 'Rum', 'I. \"Surely', 'Havisham', 'Crown', 'the Town Hall', 'Hunted', 'Matthew', 'days of the week', 'a hundred miles', 'dusk', 'Blackfriars Bridge', \"Lloyd's\", 'the first of June', 'Jaggerth', 'Third', 'two inches', 'the intervening years', 'Admiralty', 'sixteen', 'full an hour', 'a few minutes of five', 'Blue Blazes', 'half an\\nhour', 'Peer', 'five in the morning', 'the White Tower', 'the days', 'some two years', \"Says Compeyson: 'Why\", 'every Sunday night', 'Wemmick', 'Majesty', 'Chapter V\\nThe', 'Vauxhall', 'Catalogue', 'the Aged P.', 'Shoulders', 'the summer evening', 'Dear old Pip', \"last night's\", \"Uncle Pumblechook's\", 'Missis', 'about five days', 'Never, Estella', 'Ceylon', 'First', 'Chapter XVII', 'midnight', 'hundredth', 'fidelity', 'Yes, Joe.', 'Beggar', 'half an hour', 'five-and-thirty', 'J.\\nGargery', 'Speak the truth', 'the John of Sunderland', 'Chapter LV', 'Commercials', 'Hereupon Startop', 'Ware\\nCompeyson', 'the last hour', 'Three Jolly Bargemen', 'one hundred', 'at least twelve', 'Arthur', 'rick', 'BIDDY', 'the night', 'Briton', 'Australia', 'Chelsea Reach', 'a few days ago', 'next summer', 'Herbert Pocket', 'that half a minute', 'past midnight', 'a quarter of an hour', 'Surrey Richmond', 'Smithfield', 'Door', 'Essex', 'Cain', 'days', 'a hundred', 'un', 'Immense', 'Brandley', 'Sovereign', 'I.\\nI', 'Quintin Matsys', 'Chapter LII\\nFrom', 'Matthew Pocket', 'Gracious me,', 'Larks', 'Swabs', 'Yorkshire', \"Thank'ee\", 'Wopsle', 'a few seconds', 'sixty-four pounds', 'The night', 'supreme indifference', 'Dear Sir', \"three days'\", 'Chapter XLII', 'Ah! Except', 'the afternoon', 'seven', 'Herbert', 'Jewish', 'Chapter XXVII', 'twenty', 'Secondly', 'about five', 'eighteen-pence', \"Old Barley's\", 'another hour', 'Partickler', 'Friday', 'Conscience', 'Prayer-Book', 'Saturday night', 'Two one pound', 'nights', 'Lunnon', 'Chapter VII', 'twenty pounds', 'the Wine-Coopering', 'Gravesend', 'Rather, Pip', 'Giant', 'every evening', 'I.\\n\"O yes', 'this hour', 'Wemmicks', 'this last evening', 'five-pound', 'Trades', 'the first few year', 'Leith', 'hackney chariot', 'anwil', 'Seven', 'French', \"eight o'clock to\", 'the first day', 'South', 'any hour of the night', '1867', 'Spanish', 'Chapter LVII\\nNow', 'so many weeks', 'London\\nBridge', 'One', 'two good hours', 'this very night', \"ten o'clock\", 'secondly', 'a rimy morning', 'Cousin Raymond', 'To-night', 'Eastern', 'Pips', 'Boots', 'Magwitch', 'as many as six', 'nine', 'Chapter XXXV', \"Bentley Drummle's\", 'twenty or fifty', 'twenty years ago', 'Angel', 'Thames', 'Denmark', 'P.S.', 'Saturdays', 'the Dying Gladiator', 'number half a dozen', 'Dear little thing!', 'Crusaders', 'saucepan', 'Charlotte', 'corduroys', 'Sarah\\nPocket', 'the\\nhouse', 'only this evening', 'Chapter XXIV', 'two days', 'Bartholomew', 'Claudius, King\\n', 'Mother Gargery', 'Every morning', 'a full year', 'Rampage', 'late in the month of February', 'Die', 'Est - Havisham', 'half', 'Captain Cook', 'State', 'Squires', 'Court', 'five-and-twenty pound', 'about half', 'House', 'Judgment', 'only half', 'the month of March', 'the morning', 'Hyde Park', 'months', 'three years', 'Hercules', 'this day of the year', 'the longest day', 'many nights and days', 'Dear Mr. Pip,\\nor', 'Abel Magwitch', 'Kingston Jail', 'One-Pound', 'five hundred pounds', '2', 'twelve', 'Fate', 'the Harmonious Blacksmith', 'Middlesex', 'Before a week', 'Chapter XXVIII', 'another minute', 'Chapter', 'ten pound', 'Temple Gardens', '\"Holy father, Mithter Jaggerth', 'six', 'first', 'many hours', \"the Blue Boar's\", 'Jeweller', 'three-and-twenty years of age', 'hundreds', 'late at night', 'fifty-first', 'the Genius of Youthful Love', 'Westminster Abbey', 'Sundays', 'us', \"two o'clock\", 'Law', 'Two', 'Dear me!', 'Impossibility', 'O Jaggerth', 'Miss', 'fourteen', 'one pound', 'East', 'some minutes', 'hours', 'Chapter XLVI\\n', 'Waiter', 'English', 'some three\\nhours', 'Windsor', 'Nod', 'half a dozen yards', 'Lane', 'a dark night', 'the\\ndays', 'BLACKSMITH', 'the Wandering Jew', 'Peach', 'Caesar', 'Garden', \"an't\", 'Chorus', 'his days', 'Old Clem', 'the red large moon', 'hart', 'Decline', 'twelve pence', 'slip Tom', \"two or three o'clock\", 'some four or five years', 'U JO AN', 'National Bard', 'quarterly', 'smith', 'Parks', 'J-O', 'Mum', 'Chapter XXXVI', 'next week', 'one hundred and twenty-five', 'A.', 'Chapter XI', 'Hammersmith', 'North', 'one evening', 'late in the evening', 'these two months', 'Likeways', 'two-gallon', 'The Hall', 'explainer', 'Trabb', 'Newgate Prison', 'JUN', 'a dozen', 'three', 'four or five year', 'thirty', 'five pound', 'Chapter XII', 'late in the afternoon', 'Camilla', 'Aberdeen', 'about one', 'some miles', 'daily', 'Habit', 'Great Expectations', 'Chapter XXXVII', 'Chest', 'Fanny', 'Walworth', 'that morning', 'Telemachus', 'Collins', 'Say five miles', 'Well,', 'HIM', 'Flopson and Millers', 'eight in the\\nmorning', 'Cairo', 'Hem', 'Bone', 'Eastward', 'Chapter III', 'week', 'Tuesday, Wednesday', 'a few thousand tons', 'One night', 'twice a year', 'Ship', 'Accoucheur Policeman', 'next Sunday', 'several days', 'Preserving', 'half a minute', 'JO', 'Wellington', 'ESTELLA', 'One Sunday', 'thirty feet', 'day', 'Jane Pocket', 'Richmond', 'Us', \"wotsume'er\", 'hundred', 'the nine hundred pounds', 'Tom', 'Newgate Street', 'the Old Green Copper Ropewalk', 'George Barnwell', \"Biddy giv'\", 'lookee', 'one', 'the Police Court', 'Thursday', 'Gout, Rum', 'some years', 'Glastonbury', 'Look at Pork', 'John', 'Ceptin Wopsle', 'Harrow', 'Belinda', 'Chapter XXXII', 'God', 'Camberwell', 'Old Bailey', 'Handel', 'Something', 'these three days', 'Hotel', 'this morning', 'Monday night', 'Traveller', 'Bang', 'canary waistcoat', 'Temple', 'supreme aversion', 'Cove', 'Maker', 'Dolge Orlick', 'all\\nhours', 'the Eastern Branch', 'afternoon', 'an hour', 'next night', 'Miss Jane', 'Jo', 'Chapter VI', 'Queens', 'this day', 'more than two years ago', 'Yarmouth', 'Handsome', 'two or three', 'Chapter L', 'Dover', 'Pip', 'Reformatory', 'Three', 'Insurers of Ships', 'Estella', \"six o'clock\", 'the Jolly Bargemen, Pip', 'those days', 'the Temple of State', 'what day of the week', '\"So Herbert and', 'Faint', \"three o'clock\", 'the\\nmuseum', 'TO BE READ IN MY\\nCELL', 'Bazaar', 'Romans', 'Forty-three', 'Old Barley', 'Barley', 'between two', 'Danish', 'Also Georgiana Wife of the Above', 'Dear, dear!', 'a bright day', 'every night', 'Cock Robin', 'a\\nquarter', 'seven hundred', 'penny', 'noisy', \"almost nine o'clock\", 'Yes, Estella', 'seven to eight', 'Jorge', 'summer', 'Abel', 'years', 'half-past eight', 'On the Rampage', 'the High Street', 'some one', 'one night', \"Mas'r Jaggers\", 'dozen', 'Stinger', 'the first year', 'Mentor', 'another two hundred yards', 'the year', 'Blue Boar', 'I.\\n\" - Had', 'Chapter XXXVIII', 'about\\nnoon', \"the Blacking Ware'us\", 'one afternoon', 'the auspicious day', 'three or', 'the present hour', 'Satis House', 'fifteen, six', 'our years', 'Capital', 'Alick', 'Stop a minute', 'this particular evening', 'Chapter XXV', 'weekly', 'Coiler', \"J. Gargery's\", \"nine o'clock\", 'Living, Joe?', 'Melia', 'Early next morning', 'Chapter XIII', 'Joseph - or', 'Yonder', 'Miss Estella', 'Athens', 'Squeaker', \"Miss Havisham's\", 'the other day', 'Two or three months', 'twelve months', 'Chapter XXII', 'fifty miles', 'Arthur\\n', 'Dear Anything', 'Surname Pip', 'Carols', 'I.\\n\"You\\'re', 'For the Temple', 'their bridal morning', 'some three or', 'five in the afternoon', 'SHAL', 'SAP', 'Chapter XV', 'Joes', 'Close', 'Thankye', 'Covent Garden', 'Marseilles', 'the garden gate', 'Nine\\nhundred', 'Herbert\\nPocket', 'Punch', 'Greek', 'Kent', 'Raymond', \"Georgiana M'ria\", 'first night', 'Esquimaux', 'Young\\nPip', 'Uncle Pumblechook', 'Laertes', 'thankye', 'GOD', 'five dull miles', 'Chapter XLV\\nTurning', 'the week', 'Purser', 'Chapter LIX', 'a night', 'the Arabian Nights', 'Mr Jaggers', 'today', 'fed', 'a few\\nminutes', 'Biddy', 'all the evening', 'Or Provis', 'Battery', 'Gruffandgrim', 'Joseph Gargery', 'Habraham Latharuth', 'Tobias', 'two or three days', 'Molly', 'fifty per cent', 'all days', 'a penny', '\"Enough House', 'this day week', 'I. \"Yes.', 'two later', 'Luck', 'Chapter XVI', \"about two o'clock in the morning\", 'my days', 'Magisterial', 'a term of years', 'welwet', 'the East Indies', 'Custom House', 'Jew', 'I.\\n\"Meant', \"Eight o'clock\", \"eight o'clock\", 'half-past', 'Clara Barley', 'Lies', 'Exhibition', 'anybody - Tom', 'a day', 'Christmas Day', 'OPE', 'LOT 2', 'the\\nmoon', 'seven year', \"Bill Barley's\", 'Half', 'the West Indies', 'about nine', 'Liverpool', 'The late Compeyson', 'Un', 'a quarter', 'Twice', 'Gargery', 'another half-hour', 'Behave', 'Tramping', 'Joe Gargery', 'a mile', 'Drummle', 'some two', 'Cupid', 'nearer\\ntwo hours', 'Bill Barley', 'A.M.', 'Brentford', \"one o'clock\", 'a half-holiday', 'three years old', 'thousand', 'a few feet', 'Ark', 'seven years', 'twenty-five', 'early dinner hour', 'Traitor', 'Lodge', 'Englishman', 'Limehouse', 'Good morning', 'about five\\nhours', 'early morning', 'four years', 'eleven years', 'the day', 'gore', 'Miss Havisham', 'Ahoy!', 'ten', 'the City of London', 'Damn', 'Chapter XIV', 'Hebrew', 'India', 'Years', 'sherry smelt', 'Shipping', 'Missionary', 'to-day', 'weeks of the year', 'April', 'one foot', 'Churchyard', \"Barnard's Hotel\", 'Tom-cats', 'eight', 'a year', 'night and day', 'a week', 'some weeks', 'weeks', 'early in the morning', 'Philip Pirrip', 'earth', 'three days', 'Havishams', 'J. Gargery', 'Custum', 'Hamburg', \"seven o'clock\", 'J. Gargery - \"', 'the season', 'Hundred and twenty-three', 'Evidently Biddy', 'those early days', 'Chapter XLIV', 'twenty miles', 'twenty-third', 'the Custom House', 'five-and-twenty years ago', 'Blandley', 'Whitefriars', 'Twilight', \"Here's Mike\", 'I.\\n\"Ecod', 'hart - \"', 'Sarah Pocket', 'Abraham', 'a thousand years', 'Christened Pip', 'Yours', 'Hummums', 'a good two hours', 'keyhole', 'African', 'Halloa, Pip', 'a few moments', 'that same week', 'half-yearly', 'Dear Joe', 'one day', 'Fleet Street', 'The Queen of Denmark', 'that night', 'Avenger', 'Giv', \"Mother Hubbard's\", 'Cambridge', 'a thoughtful evening', 'morning', \"' year ago\", 'Chapter XXXI', 'Tartar', 'a hundred pound', 'Estella to Provis', 'fifty', 'two-and-thirty', 'more than a year', 'Juryman', 'about five minutes', 'Satis', 'Yes, Pip', 'the day before the day', 'Cleopatra', 'Gerrard Street', 'Pirrip', 'the Jolly Bargemen', 'this night', 'half a minute ago', \"eleven o'clock\", 'last night', 'Chapter XLI', 'Canterbury', 'Waterloo', 'about forty', 'twelve years', 'early days', 'five minutes', 'Understand', 'Bailey', 'about four feet', 'some unlucky hour', 'Nevvy', 'only one', 'Britannia', 'Christmas Eve', 'Lookee', 'EXPECTATIONS', 'muslin scarf', 'Prisoner', 'I. \"', 'this present night', 'half\\npast eight', 'six days', 'a minute', 'noon', 'Startop', 'the end of the first', 'Early in the morning', \"Bentley\\nDrummle's\", 'Assembly Ball', '\"Nothing the matter', 'summer day', 'I.\\n\"A', 'Glasgow', 'Clarriker', 'werry', 'Constables', 'two hundred', 'Church', 'Chapter XVIII', 'Chapter II', 'twentieth', 'Moths', \"Sarah Pocket's\", 'I. \"Tell me', 'week-day', 'I. \"Estella', 'Avail', 'some fifty', 'Clara', 'the National Debt', 'about sixty', 'Skiffins', 'Holborn Hill', 'I.\\n\"', 'One day', 'twenty thousand', 'Richard', 'a certain quarter', 'Refrain', 'twenty minutes past six', 'Assembly Balls', 'three hours', 'Parish', 'last week', 'George', 'Every hour', 'china', 'Some weeks', 'evening', 'Waldengarver', 'Blackfriars', \"about\\neleven o'clock\", 'almost noon', 'Good day', 'the dusk of evening', 'the Great Seal of England', 'eight or nine hours', 'the Sentence of Death', 'Nile', 'Five', 'Death', 'Sophia', 'an\\nevening', 'Chapter XLVIII', 'the Wemmick of Walworth', 'I.\\n\"Not so much', 'a morning or', 'some half-dozen', 'Little Britain', 'the\\nmorning', 'half-past one', 'gallon', 'Drama', 'Philip Pip, Esquire', 'Baronet', 'Bartholomew Close', 'this last night', 'a\\nfew hours', 'Chapter IV', 'Mooncalfs', 'only four', '\\ufeffREAT', 'Now, Handel', 'every minute', 'Roscian', 'Hounslow Heath', 'Mary Anne', 'the very day', 'The Finches of the Grove', 'Expecting Herbert', 'Barnard', 'next morning', \"The time wi' Compeyson\", 'Coriolanus', 'I.\\n\"Dread him', 'Georgiana', 'Six months', 'Macbeth', 'I. \"No', 'Castle', 'Live in London', 'Patience', 'Joe good-night', 'TOOBY', 'Chapter XXI\\n', 'Ten thousand', 'Lifer', 'The Commercials', 'last\\nyear', 'Bosworth', 'five-and-twenty', 'Well, Pip', 'yesterday', 'first day', 'the hour', 'Ah-h-h', 'Four', 'Chapter LI', 'the\\nimpatient movement', 'the day before', 'at least eight', 'another evening', 'the Musical Glasses', 'Ayther', 'mid-day', 'a Prayer-Book', 'Boar', 'two', \"What's\", 'many months', 'at least six', 'overnight', 'Chapter XLVII\\n', 'Trabb and Co.', 'I. \"Something', 'bush', 'abet\\nHerbert', 'Yes, Joe? Go on', 'Eight', 'more than twenty pound', 'tomorrow', 'the North Pole', 'late years', 'Young', 'half-past nine', 'Dear Magwitch', 'Southwark', 'Time', 'My dear Handel, I', 'Chapter LIV', 'Love', 'the four thousand pounds', 'ten miles', 'Christian', 'Guilty', 'those March days', 'Mill\\nPond', 'Bs', 'Aged', 'two hours', 'Dutchmen', 'Half a quarter', 'an\\nhour', 'Hulk', 'Camberwell Green', 'all day', 'New\\nSouth Wales', 'O Heavens', 'a certain hour of every afternoon', 'Undertaking', '4 2', 'Pumblechook', 'more than one', 'the Brandleys on the water', 'my seventh year', 'the early morning', 'Clem', 'Second', 'Mithter Jaggerth', 'Firstly', 'Finches', 'five hundred', 'Sarah', 'second', 'dim horizon', 'a hundred years', \"Memorandum of Pip's\", 'only one night', 'Campbell', 'five minutes before', 'four\\ndays', 'Dolge', 'Antwerp', 'I.\\n\"My good Handel', 'Knight', 'the same early morning', 'two feet', 'a thousand mile', 'March', 'Jack', 'Call Estella', 'Bentley', 'the Three Jolly Bargemen', 'Spider', 'I. Take', 'the fourth year', 'two pence', 'Portsmouth', 'some seconds', 'between a hundred', 'just an hour later', 'Chapter XXXIX', 'the new week', 'Prices', 'about seven hundred', 'Saturday', 'an hour earlier in the afternoon', 'Bridge', 'London Bridge', 'Pumblechookian', 'Calendar', 'The half-hour', 'four', 'Impostor, Pumblechook', 'Jane', 'France', 'four-and-twenty hours', 'last Sunday', 'half a dozen', 'tonight', 'I.', 'a moment ago', 'I.\\n', '\"Murder. -', \"about six o'clock of the morning\", 'Noah', 'Joseph', 'the Household Furniture', 'this Sunday', 'Swine', 'Timon', 'Surrey', 'only two', 'Bill', 'Thankee, Pip', 'Theatre', 'midday', 'December', 'LOT 1', 'Bondsman', 'showy', 'Dear Pip', 'market-days', 'Pocket', 'Dunstable', 'creamy breeches', 'Europe', 'Mill Pond Bank', 'ten years', 'Thirdly', 'two thousand', 'Insurer', 'Drat', 'Served His Majesty', 'Sally', 'less than two', 'Irish', 'Lobbs', 'Tag and Rag and Bobtail', 'the end of the week', 'Roman', 'the evening', 'several yards', '\"Master', 'fifty thousand-fold', 'Chapter IX', 'a fine day', 'Canary', 'Amelia', 'night', 'Proud', 'Good Night', 'a few hours', 'Epsom', 'last\\nnight', 'Clarriker and Co.', 'twenty minutes to nine', 'decay', 'Miss\\nHavisham', 'Bargemen', 'British', 'Pepper', 'next Wednesday', 'Ahoy', 'many years', 'America', 'Thankee', 'Dear Biddy', 'Charles Dickens', 'Billingsgate Market', 'England', 'Shall I see something very uncommon', 'so many hours', 'gravedigger', 'forty-three pence', 'a\\nfew minutes', 'this very day', 'the\\nhours', 'Tickler', 'Latin', 'Matthew\\nPocket', 'Straw', 'Hubbles', 'Essex Street', 'Breakfast', 'Z.', \"Chinks's Basin\", 'Uncle', 'two months', 'six feet', 'Coiner', 'Godliness', 'Wednesday', 'vista', 'Whimple', 'the Old Bailey', 'last month', 'Aged P.', 'Mercenary', 'about a couple of miles', 'Philip', 'Joe - Gargery', 'minutes', 'third', 'One afternoon', 'Hymen', 'Hereupon', 'some four years later', 'the Temple.', 'a half-penny', 'nightly', 'Purvis', 'Westminster', 'Grove', 'four thousand', 'Brandy', 'the white shoe', 'Said', 'Pip, Pip', 'the next few hours', 'that same hour', 'Next day', 'Millwood', 'Chapter XLIII', 'Enchanter', 'the next day', \"next day's\", 'winter', 'Swab', 'Bridewells and Lock-Ups', 'Somersetshire', 'Monday', 'Witches', \"Somebody's\", 'Shall if I like', 'Fountain Court', 'half the evening', 'Johns', 'I.\\nHe', 'this\\nday', 'Life Assurance', 'Fire Office', 'Holdfast', 'a few minutes', 'Wilful Murder', 'New South Wales', 'one-pound', 'Buttons', 'five', 'Joe'}\n"
     ]
    }
   ],
   "source": [
    "print(set(entities))"
   ]
  },
  {
   "cell_type": "code",
   "execution_count": 36,
   "metadata": {},
   "outputs": [],
   "source": [
    "# count number of adjectives\n",
    "adjective_count = 0\n",
    "for token in doc:\n",
    "    if token.pos_ == \"ADJ\":\n",
    "        adjective_count += 1"
   ]
  },
  {
   "cell_type": "code",
   "execution_count": 37,
   "metadata": {},
   "outputs": [
    {
     "data": {
      "text/plain": [
       "11166"
      ]
     },
     "execution_count": 37,
     "metadata": {},
     "output_type": "execute_result"
    }
   ],
   "source": [
    "adjective_count"
   ]
  },
  {
   "cell_type": "markdown",
   "metadata": {},
   "source": [
    "__Relative frequency__"
   ]
  },
  {
   "cell_type": "code",
   "execution_count": 38,
   "metadata": {},
   "outputs": [],
   "source": [
    "# find the relative frequency per 10,000 words\n",
    "relative_freq = (adjective_count/len(doc)) * 10000"
   ]
  },
  {
   "cell_type": "code",
   "execution_count": 39,
   "metadata": {},
   "outputs": [
    {
     "data": {
      "text/plain": [
       "456.97"
      ]
     },
     "execution_count": 39,
     "metadata": {},
     "output_type": "execute_result"
    }
   ],
   "source": [
    "round(relative_freq, 2)"
   ]
  },
  {
   "cell_type": "markdown",
   "metadata": {},
   "source": [
    "## Creating neater outputs using ```pandas```"
   ]
  },
  {
   "cell_type": "markdown",
   "metadata": {},
   "source": [
    "At the moment, all of our output from ```spaCy``` is in the form of lists. If we want to save these, it probably makes sense to have them saved in a more transferable format, such as CSV files or JSONs.\n",
    "\n",
    "One very easy way to do this with Python is by using the dataframe library ```pandas```."
   ]
  },
  {
   "cell_type": "code",
   "execution_count": 44,
   "metadata": {},
   "outputs": [],
   "source": [
    "import pandas as pd"
   ]
  },
  {
   "cell_type": "code",
   "execution_count": 45,
   "metadata": {},
   "outputs": [],
   "source": [
    "# create spaCy doc\n",
    "# create a new Doc object\n",
    "doc = nlp(input_string)"
   ]
  },
  {
   "cell_type": "code",
   "execution_count": 46,
   "metadata": {},
   "outputs": [],
   "source": [
    "annotations = []\n",
    "for token in doc:\n",
    "    annotations.append((token.text, token.pos_))"
   ]
  },
  {
   "cell_type": "code",
   "execution_count": 47,
   "metadata": {},
   "outputs": [
    {
     "data": {
      "text/plain": [
       "[('My', 'PRON'),\n",
       " ('name', 'NOUN'),\n",
       " ('is', 'AUX'),\n",
       " ('Nikita', 'PROPN'),\n",
       " ('and', 'CCONJ'),\n",
       " ('I', 'PRON'),\n",
       " ('have', 'VERB'),\n",
       " ('friends', 'NOUN'),\n",
       " ('in', 'ADP'),\n",
       " ('Denmark', 'PROPN'),\n",
       " (',', 'PUNCT'),\n",
       " ('Germany', 'PROPN'),\n",
       " (',', 'PUNCT'),\n",
       " ('Poland', 'PROPN'),\n",
       " ('and', 'CCONJ'),\n",
       " ('Dubai', 'PROPN')]"
      ]
     },
     "execution_count": 47,
     "metadata": {},
     "output_type": "execute_result"
    }
   ],
   "source": [
    "annotations"
   ]
  },
  {
   "cell_type": "code",
   "execution_count": 48,
   "metadata": {},
   "outputs": [],
   "source": [
    "# spaCy doc to pandas dataframe\n",
    "data = pd.DataFrame(annotations, \n",
    "                    columns=[\"Token\", \"POS\"])"
   ]
  },
  {
   "cell_type": "code",
   "execution_count": 49,
   "metadata": {},
   "outputs": [
    {
     "data": {
      "text/html": [
       "<div>\n",
       "<style scoped>\n",
       "    .dataframe tbody tr th:only-of-type {\n",
       "        vertical-align: middle;\n",
       "    }\n",
       "\n",
       "    .dataframe tbody tr th {\n",
       "        vertical-align: top;\n",
       "    }\n",
       "\n",
       "    .dataframe thead th {\n",
       "        text-align: right;\n",
       "    }\n",
       "</style>\n",
       "<table border=\"1\" class=\"dataframe\">\n",
       "  <thead>\n",
       "    <tr style=\"text-align: right;\">\n",
       "      <th></th>\n",
       "      <th>Token</th>\n",
       "      <th>POS</th>\n",
       "    </tr>\n",
       "  </thead>\n",
       "  <tbody>\n",
       "    <tr>\n",
       "      <th>0</th>\n",
       "      <td>My</td>\n",
       "      <td>PRON</td>\n",
       "    </tr>\n",
       "    <tr>\n",
       "      <th>1</th>\n",
       "      <td>name</td>\n",
       "      <td>NOUN</td>\n",
       "    </tr>\n",
       "    <tr>\n",
       "      <th>2</th>\n",
       "      <td>is</td>\n",
       "      <td>AUX</td>\n",
       "    </tr>\n",
       "    <tr>\n",
       "      <th>3</th>\n",
       "      <td>Nikita</td>\n",
       "      <td>PROPN</td>\n",
       "    </tr>\n",
       "    <tr>\n",
       "      <th>4</th>\n",
       "      <td>and</td>\n",
       "      <td>CCONJ</td>\n",
       "    </tr>\n",
       "    <tr>\n",
       "      <th>5</th>\n",
       "      <td>I</td>\n",
       "      <td>PRON</td>\n",
       "    </tr>\n",
       "    <tr>\n",
       "      <th>6</th>\n",
       "      <td>have</td>\n",
       "      <td>VERB</td>\n",
       "    </tr>\n",
       "    <tr>\n",
       "      <th>7</th>\n",
       "      <td>friends</td>\n",
       "      <td>NOUN</td>\n",
       "    </tr>\n",
       "    <tr>\n",
       "      <th>8</th>\n",
       "      <td>in</td>\n",
       "      <td>ADP</td>\n",
       "    </tr>\n",
       "    <tr>\n",
       "      <th>9</th>\n",
       "      <td>Denmark</td>\n",
       "      <td>PROPN</td>\n",
       "    </tr>\n",
       "    <tr>\n",
       "      <th>10</th>\n",
       "      <td>,</td>\n",
       "      <td>PUNCT</td>\n",
       "    </tr>\n",
       "    <tr>\n",
       "      <th>11</th>\n",
       "      <td>Germany</td>\n",
       "      <td>PROPN</td>\n",
       "    </tr>\n",
       "    <tr>\n",
       "      <th>12</th>\n",
       "      <td>,</td>\n",
       "      <td>PUNCT</td>\n",
       "    </tr>\n",
       "    <tr>\n",
       "      <th>13</th>\n",
       "      <td>Poland</td>\n",
       "      <td>PROPN</td>\n",
       "    </tr>\n",
       "    <tr>\n",
       "      <th>14</th>\n",
       "      <td>and</td>\n",
       "      <td>CCONJ</td>\n",
       "    </tr>\n",
       "    <tr>\n",
       "      <th>15</th>\n",
       "      <td>Dubai</td>\n",
       "      <td>PROPN</td>\n",
       "    </tr>\n",
       "  </tbody>\n",
       "</table>\n",
       "</div>"
      ],
      "text/plain": [
       "      Token    POS\n",
       "0        My   PRON\n",
       "1      name   NOUN\n",
       "2        is    AUX\n",
       "3    Nikita  PROPN\n",
       "4       and  CCONJ\n",
       "5         I   PRON\n",
       "6      have   VERB\n",
       "7   friends   NOUN\n",
       "8        in    ADP\n",
       "9   Denmark  PROPN\n",
       "10        ,  PUNCT\n",
       "11  Germany  PROPN\n",
       "12        ,  PUNCT\n",
       "13   Poland  PROPN\n",
       "14      and  CCONJ\n",
       "15    Dubai  PROPN"
      ]
     },
     "execution_count": 49,
     "metadata": {},
     "output_type": "execute_result"
    }
   ],
   "source": [
    "data"
   ]
  },
  {
   "cell_type": "code",
   "execution_count": 51,
   "metadata": {},
   "outputs": [],
   "source": [
    "# save dataframe\n",
    "outpath = os.path.join(\"..\", \"lessons\", \"session3\" \"annotations.csv\")\n",
    "data.to_csv(outpath)"
   ]
  },
  {
   "cell_type": "markdown",
   "metadata": {},
   "source": [
    "## Assignment 1\n",
    "\n",
    "Spend some time exploring and familiarizing yourself with ```spaCy``` and ```pandas```. We'll come back to them quite a lot through this semester, so it will help to have a solid handle on how they function.\n",
    "\n",
    "When you are ready, head over to [Assignment 1](https://classroom.github.com/a/PdNi7nPv) which takes some of the skills you've learned last week and today. The task will be to count how many times certain linguistic features occur accross different documents, and to save those results in a clear and easy-to-understand way."
   ]
  },
  {
   "cell_type": "code",
   "execution_count": null,
   "metadata": {},
   "outputs": [],
   "source": []
  }
 ],
 "metadata": {
  "kernelspec": {
   "display_name": "Python 3",
   "language": "python",
   "name": "python3"
  },
  "language_info": {
   "codemirror_mode": {
    "name": "ipython",
    "version": 3
   },
   "file_extension": ".py",
   "mimetype": "text/x-python",
   "name": "python",
   "nbconvert_exporter": "python",
   "pygments_lexer": "ipython3",
   "version": "3.9.2"
  },
  "vscode": {
   "interpreter": {
    "hash": "767d51c1340bd893661ea55ea3124f6de3c7a262a8b4abca0554b478b1e2ff90"
   }
  }
 },
 "nbformat": 4,
 "nbformat_minor": 4
}
